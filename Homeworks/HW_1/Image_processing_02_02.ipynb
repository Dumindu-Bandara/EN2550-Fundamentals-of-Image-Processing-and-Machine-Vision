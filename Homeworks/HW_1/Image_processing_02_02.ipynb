{
  "nbformat": 4,
  "nbformat_minor": 0,
  "metadata": {
    "colab": {
      "name": "Image processing 02_02.ipynb",
      "provenance": []
    },
    "kernelspec": {
      "name": "python3",
      "display_name": "Python 3"
    },
    "language_info": {
      "name": "python"
    }
  },
  "cells": [
    {
      "cell_type": "markdown",
      "source": [
        "# Name: E.M.D.A. Bandara\n",
        "# Index No: 190072E"
      ],
      "metadata": {
        "id": "SJ_ciy-r0kXN"
      }
    },
    {
      "cell_type": "code",
      "source": [
        "for i in range(1, 6):\n",
        "  print(\"%d : %d\"%(i, i**2))"
      ],
      "metadata": {
        "colab": {
          "base_uri": "https://localhost:8080/"
        },
        "id": "uJq8BI8l0oXu",
        "outputId": "2b24c10e-10e6-4bd2-dfa6-22078ec9b0e4"
      },
      "execution_count": 30,
      "outputs": [
        {
          "output_type": "stream",
          "name": "stdout",
          "text": [
            "1 : 1\n",
            "2 : 4\n",
            "3 : 9\n",
            "4 : 16\n",
            "5 : 25\n"
          ]
        }
      ]
    },
    {
      "cell_type": "code",
      "source": [
        "import sympy\n",
        "for i in range(1,6):\n",
        "  if not sympy.isprime(i):\n",
        "    print(i,' :', i**2)"
      ],
      "metadata": {
        "colab": {
          "base_uri": "https://localhost:8080/"
        },
        "id": "Ru43pO_qtoZR",
        "outputId": "9b64dff1-f23e-42e5-e985-55419c160455"
      },
      "execution_count": 5,
      "outputs": [
        {
          "output_type": "stream",
          "name": "stdout",
          "text": [
            "1  : 1\n",
            "4  : 16\n"
          ]
        }
      ]
    },
    {
      "cell_type": "code",
      "source": [
        "squares = [i**2 for i in range(1,6)]\n",
        "for i in range(5):\n",
        "  print(i+1, \": \", squares[i])"
      ],
      "metadata": {
        "colab": {
          "base_uri": "https://localhost:8080/"
        },
        "id": "BC_94I15vu9m",
        "outputId": "b1b5a839-c17e-42cb-8289-02fa554abe63"
      },
      "execution_count": 7,
      "outputs": [
        {
          "output_type": "stream",
          "name": "stdout",
          "text": [
            "1 :  1\n",
            "2 :  4\n",
            "3 :  9\n",
            "4 :  16\n",
            "5 :  25\n"
          ]
        }
      ]
    },
    {
      "cell_type": "code",
      "source": [
        "\n",
        "print('H')"
      ],
      "metadata": {
        "colab": {
          "base_uri": "https://localhost:8080/"
        },
        "id": "Cz_TNff1v_Lv",
        "outputId": "4d418beb-f812-4f00-afd7-6a37004cc0b1"
      },
      "execution_count": 12,
      "outputs": [
        {
          "output_type": "stream",
          "name": "stdout",
          "text": [
            "H\n"
          ]
        }
      ]
    },
    {
      "cell_type": "code",
      "source": [
        "import numpy as np\n",
        "\n",
        "matA = [[1, 2],[3, 4],[5, 6]]\n",
        "matB = [[7, 8, 9, 1], [1, 2, 3, 4]]\n",
        "\n",
        "\n",
        "matA = np.array(matA)\n",
        "matB = np.array(matB)\n",
        "\n",
        "print(matA.shape)\n",
        "print(matB.shape)\n",
        "\n",
        "matMul = np.matmul(matA, matB)\n",
        "print(matMul)\n"
      ],
      "metadata": {
        "colab": {
          "base_uri": "https://localhost:8080/"
        },
        "id": "Sg1S_EyvwhRg",
        "outputId": "5d639544-6570-4a04-a0e8-9929aede68a3"
      },
      "execution_count": 21,
      "outputs": [
        {
          "output_type": "stream",
          "name": "stdout",
          "text": [
            "(3, 2)\n",
            "(2, 4)\n",
            "[[ 9 12 15  9]\n",
            " [25 32 39 19]\n",
            " [41 52 63 29]]\n"
          ]
        }
      ]
    },
    {
      "cell_type": "code",
      "source": [
        "matA = [[1, 2], [3, 4], [5, 6]]\n",
        "matB = [[3, 2], [5, 4], [3, 1]]\n",
        "\n",
        "matDot = np.multiply(matA, matB)\n",
        "print(matDot)"
      ],
      "metadata": {
        "colab": {
          "base_uri": "https://localhost:8080/"
        },
        "id": "oCWBcB8zyfAR",
        "outputId": "74c36b39-def1-4f68-d6c4-0b6a3a735438"
      },
      "execution_count": 26,
      "outputs": [
        {
          "output_type": "stream",
          "name": "stdout",
          "text": [
            "[[ 3  4]\n",
            " [15 16]\n",
            " [15  6]]\n"
          ]
        }
      ]
    },
    {
      "cell_type": "code",
      "source": [
        "A = np.random.randint(10, size=(5, 7))\n",
        "print(A)"
      ],
      "metadata": {
        "colab": {
          "base_uri": "https://localhost:8080/"
        },
        "id": "QCqVeV5nzaxY",
        "outputId": "f11ca059-8b35-4b35-ad1b-b9d34b4b813a"
      },
      "execution_count": 33,
      "outputs": [
        {
          "output_type": "stream",
          "name": "stdout",
          "text": [
            "[[0 8 1 6 2 2 6]\n",
            " [9 7 5 0 0 7 6]\n",
            " [7 2 8 7 5 9 4]\n",
            " [0 1 6 1 5 7 9]\n",
            " [9 6 3 5 7 4 5]]\n"
          ]
        }
      ]
    },
    {
      "cell_type": "code",
      "source": [
        "import matplotlib.pyplot as plt\n",
        "from numpy import linalg\n",
        "\n",
        "m, c = 2, -4\n",
        "N = 100\n",
        "x = np.linspace(0, N-1, N).reshape(N, 1)\n",
        "sigma = 10\n",
        "y = m*x + c + np.random.normal(0, sigma, (N, 1))\n",
        "\n",
        "plt.scatter(x, y)\n",
        "\n",
        "x = np.append(np.ones((N, 1)), x, axis = 1)\n",
        "\n",
        "w = linalg.inv(x.T @ x) @ x.T @ y"
      ],
      "metadata": {
        "colab": {
          "base_uri": "https://localhost:8080/",
          "height": 265
        },
        "id": "OTx6f0_e1Zbo",
        "outputId": "33e90d22-0341-4b34-89a4-3705d710efb3"
      },
      "execution_count": 62,
      "outputs": [
        {
          "output_type": "display_data",
          "data": {
            "image/png": "[encoded data removed]",
            "text/plain": [
              "<Figure size 432x288 with 1 Axes>"
            ]
          },
          "metadata": {
            "needs_background": "light"
          }
        }
      ]
    },
    {
      "cell_type": "code",
      "source": [
        "import cv2 as cv\n"
      ],
      "metadata": {
        "id": "rcpa7nhK2DwI"
      },
      "execution_count": 58,
      "outputs": []
    },
    {
      "cell_type": "code",
      "source": [
        ""
      ],
      "metadata": {
        "id": "xBvO3pEm2JhA"
      },
      "execution_count": null,
      "outputs": []
    }
  ]
}