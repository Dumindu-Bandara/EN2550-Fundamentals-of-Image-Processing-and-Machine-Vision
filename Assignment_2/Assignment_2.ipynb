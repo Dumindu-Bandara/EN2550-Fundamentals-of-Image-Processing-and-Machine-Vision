{
 "cells": [
  {
   "cell_type": "code",
   "execution_count": 2,
   "metadata": {},
   "outputs": [
    {
     "name": "stderr",
     "output_type": "stream",
     "text": [
      "'matplotlib' is not recognized as an internal or external command,\n",
      "operable program or batch file.\n"
     ]
    }
   ],
   "source": [
    "!matplotlib inline\n",
    "import numpy as np\n",
    "from scipy.optimize import minimize\n",
    "from scipy import linalg\n",
    "import matplotlib.pyplot as plt\n",
    "# np . random . seed ( 0)\n",
    "N = 100\n",
    "half_n = N//2\n",
    "r = 10\n",
    "s = r/16\n",
    "t = np.random.uniform (0 , 2*np.pi , half_n )\n",
    "n = s*np.random.randn(half_n)\n",
    "x , y = ( r + n)*np.cos(t) , ( r + n)*np.sin(t)\n",
    "X_circ = np.hstack((x.reshape(half_n , 1) , y.reshape(half_n , 1)))\n",
    "m, b = -1, 2\n",
    "x = np . linspace(-12, 12 , half_n)\n",
    "y = m*x + b + s*np.random.randn(half_n)\n",
    "X_line = np.hstack((x.reshape(half_n , 1 ), y.reshape( half_n , 1 )))\n",
    "X = np.vstack((X_circ , X_line))"
   ]
  },
  {
   "cell_type": "code",
   "execution_count": 4,
   "metadata": {},
   "outputs": [
    {
     "data": {
      "text/plain": [
       "Text(0.5, 1.0, 'Original Data Points')"
      ]
     },
     "execution_count": 4,
     "metadata": {},
     "output_type": "execute_result"
    },
    {
     "data": {
      "image/png": "[encoded data removed]",
      "text/plain": [
       "<Figure size 432x288 with 1 Axes>"
      ]
     },
     "metadata": {
      "needs_background": "light"
     },
     "output_type": "display_data"
    }
   ],
   "source": [
    "x_coordinates = X[:, 0]\n",
    "y_coordinates = X[:, 1]\n",
    "fig, ax = plt.subplots(1, 1)\n",
    "ax.axis('equal')\n",
    "ax.scatter(x_coordinates, y_coordinates)\n",
    "ax.set_title('Original Data Points')"
   ]
  },
  {
   "cell_type": "code",
   "execution_count": 6,
   "metadata": {},
   "outputs": [
    {
     "name": "stdout",
     "output_type": "stream",
     "text": [
      "(-0.0, 0.0, -1.0)\n"
     ]
    }
   ],
   "source": [
    "def evaluate_circle(x1, y1 ,x2, y2, x3, y3):\n",
    "    x12 = x1 - x2\n",
    "    x13 = x1 - x3\n",
    " \n",
    "    x31 = x3 - x1\n",
    "    x21 = x2 - x1\n",
    "\n",
    "    y12 = y1 - y2\n",
    "    y13 = y1 - y3\n",
    " \n",
    "    y31 = y3 - y1\n",
    "    y21 = y2 - y1\n",
    "\n",
    "    sq_diff_x13 = x1**2 - x3**2\n",
    "    sq_diff_y13 = y1**2 - y3**2\n",
    "    sq_diff_x21 = x2**2 - x1**2\n",
    "    sq_diff_y21 = y2**2 - y1**2\n",
    "\n",
    " \n",
    "    h = -0.5* (sq_diff_x13*x12 + sq_diff_y13*x12 + sq_diff_x21*x13 + sq_diff_y21*x13)/(y31*x12 - y21*x13)\n",
    "    k = -0.5* (sq_diff_x13*y12 + sq_diff_y13*y12 + sq_diff_x21*y13 + sq_diff_y21*y13)/(x31*y12 - x21*y13)\n",
    "    c = -x1**2 - y1**2 + 2*h*x1 + 2*k*y1\n",
    "\n",
    "    r = h**2 + k**2 - c\n",
    "\n",
    "    return h, k, c\n",
    "\n",
    "def RANSAC_circle(thresh_distant, thresh_inlinear, max_iterations, points ):\n",
    "    import random\n",
    "    import math\n",
    "    iterations = 0\n",
    "    short_list = []\n",
    "\n",
    "    while iterations < max_iterations:\n",
    "        iterations =+ 1\n",
    "\n",
    "        point_index = random.sample(range(0, len(points)), 3)\n",
    "\n",
    "        x1, y1 = points[point_index[0]]\n",
    "        x2, y2 = points[point_index[1]]\n",
    "        x3, y3 = points[point_index[2]]\n",
    "\n",
    "        center_x, center_y, radius = evaluate_circle(x1, y1, x2, y2, x3, y3)\n",
    "\n",
    "        min_r = max(radius-thresh_distant, 0)\n",
    "        max_r = radius + thresh_distant\n",
    "\n",
    "        num_inlinear_points = 0\n",
    "        inlinear_arr = []\n",
    "\n",
    "        for i, point in enumerate(points):\n",
    "            if min_r < math.sqrt((point[0]-center_x)**2 + (point[1]-center_y)**2) < max_r: \n",
    "                inlinear_arr.append(point)\n",
    "                num_inlinear_points += 1\n",
    "\n",
    "        print(inlinear_arr)\n",
    "\n",
    "        if (thresh_inlinear < num_inlinear_points):\n",
    "            pass\n",
    "        else:\n",
    "            continue\n",
    "        \n",
    "\n",
    "\n",
    "        \n",
    "print(evaluate_circle(1, 0, -1, 0, 0, 1))\n",
    "    "
   ]
  },
  {
   "cell_type": "code",
   "execution_count": null,
   "metadata": {},
   "outputs": [],
   "source": []
  }
 ],
 "metadata": {
  "kernelspec": {
   "display_name": "Python 3 (ipykernel)",
   "language": "python",
   "name": "python3"
  },
  "language_info": {
   "codemirror_mode": {
    "name": "ipython",
    "version": 3
   },
   "file_extension": ".py",
   "mimetype": "text/x-python",
   "name": "python",
   "nbconvert_exporter": "python",
   "pygments_lexer": "ipython3",
   "version": "3.9.10"
  }
 },
 "nbformat": 4,
 "nbformat_minor": 2
}
